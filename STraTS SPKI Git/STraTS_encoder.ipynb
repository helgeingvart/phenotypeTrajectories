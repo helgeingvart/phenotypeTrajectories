{
 "cells": [
  {
   "cell_type": "markdown",
   "id": "a52aa6a2",
   "metadata": {},
   "source": [
    "# CONFIG"
   ]
  },
  {
   "cell_type": "code",
   "execution_count": 1,
   "id": "aae59487",
   "metadata": {},
   "outputs": [],
   "source": [
    "# Need to be the same in strats_notebook.ipynb and clutering_STraTS_encoder.ipynb \n",
    "HYPER_PARAM = {'d_var':40, 'd_demo':10, 'N':2, 'he':4, 'dropout':0.2}\n",
    "DATA_SET = 'bodo' # can be {'bodo', 'physionet'}\n",
    "MIN_LENGTH_OF_STAY = 4\n",
    "MAX_LENGTH_OF_STAY = 60\n",
    "SAMPLES_TO_PREDICT = 1\n",
    "WARD_TO_USE = 'WardALL'                             # alternatives {'Ward2','Ward3','WardALL','WardNO'}\n",
    "STATIC_VARIS = ['Gender', 'StaticImputed', 'WardID', 'WardChange']          # alternatives ['Gender', 'StaticImputed', 'WardChange', 'Unconscious', 'WardID'  + in physionet 'weight', 'Age']\n",
    "DROP_VAIRS = []\n",
    "USE_DAY_MEAN = ''       # '', '_dayMean'  take mean of values for each day.\n",
    "IMPUTE_GENDER = '_ImputeGender' # '_ImputeGender'  impute gender with random gender with same rate as data.\n",
    "REMOVE_MISSING_GENDER = '' # '_noMissGender'  remove patient if gender is missing.\n"
   ]
  },
  {
   "cell_type": "code",
   "execution_count": 2,
   "id": "1dc5b603",
   "metadata": {},
   "outputs": [
    {
     "data": {
      "text/plain": [
       "\"weight_bodo_O4U60_WardALL_SV['Gender', 'StaticImputed', 'WardID', 'WardChange']_pred1_ImputeGender_d_var40demo10.h5\""
      ]
     },
     "execution_count": 2,
     "metadata": {},
     "output_type": "execute_result"
    }
   ],
   "source": [
    "# Unique for this file:\n",
    "DATA_PATH = './data/'\n",
    "DATA_NAME = f'triplets_{DATA_SET}_O{MIN_LENGTH_OF_STAY}U{MAX_LENGTH_OF_STAY}_{WARD_TO_USE}{IMPUTE_GENDER}{REMOVE_MISSING_GENDER}{USE_DAY_MEAN}.pkl'\n",
    "SAVE_WEIGHTS_AS = f'weight_{DATA_SET}_O{MIN_LENGTH_OF_STAY}U{MAX_LENGTH_OF_STAY}_{WARD_TO_USE}_SV{STATIC_VARIS}_pred{SAMPLES_TO_PREDICT}{IMPUTE_GENDER}{REMOVE_MISSING_GENDER}{USE_DAY_MEAN}_d_var{HYPER_PARAM[\"d_var\"]}demo{HYPER_PARAM[\"d_demo\"]}.h5'\n",
    "\n",
    "# STATIC_VARIS = []\n",
    "\n",
    "SAVE_WEIGHTS_AS"
   ]
  },
  {
   "cell_type": "code",
   "execution_count": 3,
   "id": "driven-termination",
   "metadata": {},
   "outputs": [],
   "source": [
    "from tensorflow.config.experimental import list_physical_devices\n",
    "from tensorflow.keras.layers import Input, Dense, Dropout, BatchNormalization, Lambda\n",
    "from tensorflow.keras.models import Model\n",
    "import pickle\n",
    "import numpy as np\n",
    "from tqdm import tqdm\n",
    "tqdm.pandas()\n",
    "from sklearn.utils.class_weight import compute_class_weight\n",
    "from tensorflow.keras.optimizers import Adam\n",
    "from sklearn.metrics import roc_auc_score, precision_recall_curve, auc\n",
    "import tensorflow.keras.backend as K\n",
    "from tensorflow.keras.callbacks import Callback, EarlyStopping\n",
    "import pandas as pd\n",
    "# making tf_utils.smart_cond work with latest version of tensorflow 2.xx\n",
    "\n",
    "from tensorflow.python.framework import smart_cond as smart_module\n",
    "from tensorflow.python.ops import control_flow_ops, variables\n",
    "import time\n",
    "\n",
    "\n",
    "def smart_cond(pred, true_fn=None, false_fn=None, name=None):\n",
    "  if isinstance(pred, variables.Variable):\n",
    "    return control_flow_ops.cond(\n",
    "        pred, true_fn=true_fn, false_fn=false_fn, name=name)\n",
    "  return smart_module.smart_cond(\n",
    "      pred, true_fn=true_fn, false_fn=false_fn, name=name)"
   ]
  },
  {
   "cell_type": "code",
   "execution_count": 4,
   "id": "12ce6871",
   "metadata": {},
   "outputs": [
    {
     "name": "stdout",
     "output_type": "stream",
     "text": [
      "Num GPUs Available:  1\n"
     ]
    }
   ],
   "source": [
    "# check for GPU\n",
    "print(\"Num GPUs Available: \", len(list_physical_devices('GPU')))"
   ]
  },
  {
   "attachments": {},
   "cell_type": "markdown",
   "id": "recreational-record",
   "metadata": {},
   "source": [
    "## Load forecast dataset into matrices."
   ]
  },
  {
   "cell_type": "code",
   "execution_count": 5,
   "id": "executive-annual",
   "metadata": {
    "scrolled": true
   },
   "outputs": [
    {
     "name": "stdout",
     "output_type": "stream",
     "text": [
      "Unsing data from: ./data/triplets_bodo_O4U60_WardALL_ImputeGender.pkl\n",
      "patients in data: 17037\n"
     ]
    },
    {
     "data": {
      "text/html": [
       "<div>\n",
       "<style scoped>\n",
       "    .dataframe tbody tr th:only-of-type {\n",
       "        vertical-align: middle;\n",
       "    }\n",
       "\n",
       "    .dataframe tbody tr th {\n",
       "        vertical-align: top;\n",
       "    }\n",
       "\n",
       "    .dataframe thead th {\n",
       "        text-align: right;\n",
       "    }\n",
       "</style>\n",
       "<table border=\"1\" class=\"dataframe\">\n",
       "  <thead>\n",
       "    <tr style=\"text-align: right;\">\n",
       "      <th></th>\n",
       "      <th>ts_ind</th>\n",
       "      <th>PatientID</th>\n",
       "      <th>checkup</th>\n",
       "      <th>hour</th>\n",
       "      <th>variable</th>\n",
       "      <th>value</th>\n",
       "      <th>mean</th>\n",
       "      <th>std</th>\n",
       "      <th>Timestamp</th>\n",
       "    </tr>\n",
       "  </thead>\n",
       "  <tbody>\n",
       "    <tr>\n",
       "      <th>0</th>\n",
       "      <td>0</td>\n",
       "      <td>191533</td>\n",
       "      <td>0</td>\n",
       "      <td>0.000000</td>\n",
       "      <td>WardID</td>\n",
       "      <td>8</td>\n",
       "      <td>0</td>\n",
       "      <td>1</td>\n",
       "      <td>1.649650e+12</td>\n",
       "    </tr>\n",
       "    <tr>\n",
       "      <th>1</th>\n",
       "      <td>0</td>\n",
       "      <td>191533</td>\n",
       "      <td>1</td>\n",
       "      <td>7.373056</td>\n",
       "      <td>WardID</td>\n",
       "      <td>8</td>\n",
       "      <td>0</td>\n",
       "      <td>1</td>\n",
       "      <td>1.649676e+12</td>\n",
       "    </tr>\n",
       "    <tr>\n",
       "      <th>2</th>\n",
       "      <td>0</td>\n",
       "      <td>191533</td>\n",
       "      <td>2</td>\n",
       "      <td>15.517500</td>\n",
       "      <td>WardID</td>\n",
       "      <td>8</td>\n",
       "      <td>0</td>\n",
       "      <td>1</td>\n",
       "      <td>1.649705e+12</td>\n",
       "    </tr>\n",
       "    <tr>\n",
       "      <th>3</th>\n",
       "      <td>0</td>\n",
       "      <td>191533</td>\n",
       "      <td>3</td>\n",
       "      <td>25.445833</td>\n",
       "      <td>WardID</td>\n",
       "      <td>8</td>\n",
       "      <td>0</td>\n",
       "      <td>1</td>\n",
       "      <td>1.649741e+12</td>\n",
       "    </tr>\n",
       "    <tr>\n",
       "      <th>4</th>\n",
       "      <td>0</td>\n",
       "      <td>191533</td>\n",
       "      <td>0</td>\n",
       "      <td>0.000000</td>\n",
       "      <td>Systolic</td>\n",
       "      <td>-0.51572</td>\n",
       "      <td>11.569301</td>\n",
       "      <td>22.433311</td>\n",
       "      <td>1.649650e+12</td>\n",
       "    </tr>\n",
       "    <tr>\n",
       "      <th>...</th>\n",
       "      <td>...</td>\n",
       "      <td>...</td>\n",
       "      <td>...</td>\n",
       "      <td>...</td>\n",
       "      <td>...</td>\n",
       "      <td>...</td>\n",
       "      <td>...</td>\n",
       "      <td>...</td>\n",
       "      <td>...</td>\n",
       "    </tr>\n",
       "    <tr>\n",
       "      <th>1963771</th>\n",
       "      <td>17036</td>\n",
       "      <td>321815932</td>\n",
       "      <td>2</td>\n",
       "      <td>17.591944</td>\n",
       "      <td>StaticImputed</td>\n",
       "      <td>0</td>\n",
       "      <td>0</td>\n",
       "      <td>1</td>\n",
       "      <td>1.659435e+12</td>\n",
       "    </tr>\n",
       "    <tr>\n",
       "      <th>1963772</th>\n",
       "      <td>17036</td>\n",
       "      <td>321815932</td>\n",
       "      <td>3</td>\n",
       "      <td>23.622500</td>\n",
       "      <td>StaticImputed</td>\n",
       "      <td>0</td>\n",
       "      <td>0</td>\n",
       "      <td>1</td>\n",
       "      <td>1.659457e+12</td>\n",
       "    </tr>\n",
       "    <tr>\n",
       "      <th>1963773</th>\n",
       "      <td>17036</td>\n",
       "      <td>321815932</td>\n",
       "      <td>4</td>\n",
       "      <td>28.755556</td>\n",
       "      <td>StaticImputed</td>\n",
       "      <td>0</td>\n",
       "      <td>0</td>\n",
       "      <td>1</td>\n",
       "      <td>1.659476e+12</td>\n",
       "    </tr>\n",
       "    <tr>\n",
       "      <th>1963774</th>\n",
       "      <td>17036</td>\n",
       "      <td>321815932</td>\n",
       "      <td>5</td>\n",
       "      <td>40.854167</td>\n",
       "      <td>StaticImputed</td>\n",
       "      <td>0</td>\n",
       "      <td>0</td>\n",
       "      <td>1</td>\n",
       "      <td>1.659519e+12</td>\n",
       "    </tr>\n",
       "    <tr>\n",
       "      <th>1963775</th>\n",
       "      <td>17036</td>\n",
       "      <td>321815932</td>\n",
       "      <td>6</td>\n",
       "      <td>50.878611</td>\n",
       "      <td>StaticImputed</td>\n",
       "      <td>0</td>\n",
       "      <td>0</td>\n",
       "      <td>1</td>\n",
       "      <td>1.659555e+12</td>\n",
       "    </tr>\n",
       "  </tbody>\n",
       "</table>\n",
       "<p>1963776 rows × 9 columns</p>\n",
       "</div>"
      ],
      "text/plain": [
       "        ts_ind  PatientID checkup       hour       variable    value  \\\n",
       "0            0     191533       0   0.000000         WardID        8   \n",
       "1            0     191533       1   7.373056         WardID        8   \n",
       "2            0     191533       2  15.517500         WardID        8   \n",
       "3            0     191533       3  25.445833         WardID        8   \n",
       "4            0     191533       0   0.000000       Systolic -0.51572   \n",
       "...        ...        ...     ...        ...            ...      ...   \n",
       "1963771  17036  321815932       2  17.591944  StaticImputed        0   \n",
       "1963772  17036  321815932       3  23.622500  StaticImputed        0   \n",
       "1963773  17036  321815932       4  28.755556  StaticImputed        0   \n",
       "1963774  17036  321815932       5  40.854167  StaticImputed        0   \n",
       "1963775  17036  321815932       6  50.878611  StaticImputed        0   \n",
       "\n",
       "              mean        std     Timestamp  \n",
       "0                0          1  1.649650e+12  \n",
       "1                0          1  1.649676e+12  \n",
       "2                0          1  1.649705e+12  \n",
       "3                0          1  1.649741e+12  \n",
       "4        11.569301  22.433311  1.649650e+12  \n",
       "...            ...        ...           ...  \n",
       "1963771          0          1  1.659435e+12  \n",
       "1963772          0          1  1.659457e+12  \n",
       "1963773          0          1  1.659476e+12  \n",
       "1963774          0          1  1.659519e+12  \n",
       "1963775          0          1  1.659555e+12  \n",
       "\n",
       "[1963776 rows x 9 columns]"
      ]
     },
     "execution_count": 5,
     "metadata": {},
     "output_type": "execute_result"
    }
   ],
   "source": [
    "\n",
    "# Read data.\n",
    "if DATA_SET=='physionet':\n",
    "    data, oc, train_ind, valid_ind, test_ind = pickle.load(open(DATA_PATH+'physionet_2012_preprocessed_noNormalization.pkl', 'rb'))\n",
    "\n",
    "    static_varis = STATIC_VARIS \n",
    "\n",
    "    feat_dynamic = [\n",
    "        'HR',           # [Heart rate (bpm)]\n",
    "        'NIDiasABP',    # [Non-invasive diastolic arterial blood pressure (mmHg)]\n",
    "        'NISysABP',     # [Non-invasive systolic arterial blood pressure (mmHg)]\n",
    "        'PaO2',         # [Partial pressure of arterial O2 (mmHg)]\n",
    "        'RespRate',     # [Respiration rate (bpm)]\n",
    "        'SaO2',         # [O2 saturation in hemoglobin (%)]\n",
    "        'Temp',         # [Temperature (°C)]\n",
    "        # Features not in Bodo data below.\n",
    "        # 'Albumin',      # (g/dL)\n",
    "        # 'ALP',          # [Alkaline phosphatase (IU/L)]\n",
    "        # 'ALT',          # [Alanine transaminase (IU/L)]\n",
    "        # 'AST',          # [Aspartate transaminase (IU/L)]\n",
    "        # 'Bilirubin',    # (mg/dL)\n",
    "        # 'BUN',          # [Blood urea nitrogen (mg/dL)]\n",
    "        # 'Cholesterol',  # (mg/dL)\n",
    "        # 'Creatinine',   # [Serum creatinine (mg/dL)]\n",
    "        # 'DiasABP',      # [Invasive diastolic arterial blood pressure (mmHg)]\n",
    "        # 'FiO2',         # [Fractional inspired O2 (0-1)]\n",
    "        # 'GCS',          # [Glasgow Coma Score (3-15)]\n",
    "        # 'Glucose',      # [Serum glucose (mg/dL)]\n",
    "        # 'HCO3',         # [Serum bicarbonate (mmol/L)]\n",
    "        # 'HCT',          # [Hematocrit (%)]\n",
    "        # 'K',            # [Serum potassium (mEq/L)]\n",
    "        # 'Lactate',      # (mmol/L)\n",
    "        # 'Mg',           # [Serum magnesium (mmol/L)]\n",
    "        # 'MAP',          # [Invasive mean arterial blood pressure (mmHg)]\n",
    "        # 'MechVent',     # [Mechanical ventilation respiration (0:false, or 1:true)]\n",
    "        # 'Na',           # [Serum sodium (mEq/L)]\n",
    "        # 'NIMAP',        # [Non-invasive mean arterial blood pressure (mmHg)]\n",
    "        # 'PaCO2',        # [partial pressure of arterial CO2 (mmHg)]\n",
    "        # 'pH',           # [Arterial pH (0-14)]\n",
    "        # 'Platelets',    # (cells/nL)\n",
    "        # 'SysABP',       # [Invasive systolic arterial blood pressure (mmHg)]\n",
    "        # 'TropI',        # [Troponin-I (μg/L)]\n",
    "        # 'TropT',        # [Troponin-T (μg/L)]\n",
    "        # 'Urine',        # [Urine output (mL)]\n",
    "        # 'WBC'           # [White blood cell count (cells/nL)]\n",
    "        ]\n",
    "\n",
    "    data = data.loc[data.variable.isin(feat_dynamic)]\n",
    "\n",
    "    \n",
    "\n",
    "    # max_hour = int(data.hour.max())\n",
    "\n",
    "    MIN = MIN_LENGTH_OF_STAY\n",
    "    MAX = MAX_LENGTH_OF_STAY\n",
    "    if USE_DAY_MEAN == '_dayMean':  # should be 4 samples per day \n",
    "        MIN = MIN_LENGTH_OF_STAY // 4 \n",
    "        MAX = MAX_LENGTH_OF_STAY // 4\n",
    "    obs_windows = range(MIN-10, MAX, 10)\n",
    "\n",
    "elif DATA_SET=='bodo':\n",
    "    datapath = DATA_PATH+DATA_NAME\n",
    "    data, oc, train_ind, valid_ind, test_ind = pickle.load(open(DATA_PATH+DATA_NAME, 'rb'))\n",
    "\n",
    "    static_varis = STATIC_VARIS # ['Gender']\n",
    "    # max_hour = int(data.checkup.max())\n",
    "    MIN = MIN_LENGTH_OF_STAY\n",
    "    MAX = MAX_LENGTH_OF_STAY\n",
    "    if USE_DAY_MEAN == '_dayMean':  # should be 4 samples per day \n",
    "        print('USE_DAY_MEAN is on')\n",
    "        MIN = MIN_LENGTH_OF_STAY // 4 \n",
    "        MAX = MAX // 4\n",
    "    obs_windows = range(MIN, MAX,  1)\n",
    "    \n",
    "\n",
    "else:\n",
    "    print('cant find data, specify: DATA_PATH and DATA_NAME')\n",
    "\n",
    "print('Unsing data from:', datapath)\n",
    "print('patients in data:', len(data.PatientID.unique()))\n",
    "data"
   ]
  },
  {
   "cell_type": "markdown",
   "id": "cdd58791",
   "metadata": {},
   "source": [
    "# Preprocess data into forcast chunks"
   ]
  },
  {
   "cell_type": "code",
   "execution_count": 6,
   "id": "d878b625",
   "metadata": {},
   "outputs": [
    {
     "name": "stderr",
     "output_type": "stream",
     "text": [
      "407124it [00:00, 1152752.21it/s]\n",
      "100%|██████████| 56/56 [00:15<00:00,  3.69it/s]\n"
     ]
    }
   ],
   "source": [
    "# Remove test patients.\n",
    "test_sub = oc.loc[oc.ts_ind.isin(test_ind)].ts_ind.unique()\n",
    "data = data.loc[~data.ts_ind.isin(test_sub)]\n",
    "oc = oc.loc[~oc.ts_ind.isin(test_sub)]\n",
    "\n",
    "# Remove unwanted variables.\n",
    "data = data[~data['variable'].isin(DROP_VAIRS)]\n",
    "\n",
    "# Fix age.\n",
    "data.loc[(data.variable=='Age')&(data.value>200), 'value'] = 91.4\n",
    "# Get static data with mean fill and missingness indicator.\n",
    "ii = data.variable.isin(static_varis)\n",
    "static_data = data.loc[ii]\n",
    "data = data.loc[~ii]\n",
    "def inv_list(l, start=0):\n",
    "    d = {}\n",
    "    for i in range(len(l)):\n",
    "        d[l[i]] = i+start\n",
    "    return d\n",
    "static_var_to_ind = inv_list(static_varis)\n",
    "D = len(static_varis)\n",
    "N = data.ts_ind.max()+1\n",
    "demo = np.zeros((N, D))\n",
    "for row in tqdm(static_data.itertuples()):\n",
    "    demo[row.ts_ind, static_var_to_ind[row.variable]] = row.value\n",
    "# Normalize static data.\n",
    "means = demo.mean(axis=0, keepdims=True)\n",
    "stds = demo.std(axis=0, keepdims=True)\n",
    "stds = (stds==0)*1 + (stds!=0)*stds\n",
    "demo = (demo-means)/stds\n",
    "\n",
    "# Get variable indices.\n",
    "varis = sorted(list(set(data.variable)))\n",
    "V = len(varis)\n",
    "var_to_ind = inv_list(varis, start=1)\n",
    "data['vind'] = data.variable.map(var_to_ind)\n",
    "data = data[['ts_ind', 'vind', 'checkup', 'value']].sort_values(by=['ts_ind', 'vind', 'checkup'])\n",
    "# Find max_len.\n",
    "# fore_max_len = 880 # original\n",
    "fore_max_len = MAX_LENGTH_OF_STAY # No need for longer than max amount of datapoints for each patient?\n",
    "# Get forecast inputs and outputs.\n",
    "fore_times_ip = []\n",
    "fore_values_ip = []\n",
    "fore_varis_ip = []\n",
    "fore_op = []\n",
    "fore_inds = []\n",
    "def f(x):\n",
    "    mask = [0 for i in range(V)]\n",
    "    values = [0 for i in range(V)]\n",
    "    for vv in x:\n",
    "        v = int(vv[0])-1\n",
    "        mask[v] = 1\n",
    "        values[v] = vv[1]\n",
    "    return values+mask\n",
    "def pad(x):\n",
    "    return x+[0]*(fore_max_len-len(x))\n",
    "for w in tqdm(obs_windows):\n",
    "    # predicted data: from timestep w and SAMPLES_TO_PREDICT forward.\n",
    "    pred_data = data.loc[(data.checkup>=w)&(data.checkup<w+SAMPLES_TO_PREDICT)]\n",
    "    pred_data = pred_data.groupby(['ts_ind', 'vind']).agg({'value':'first'}).reset_index()\n",
    "    pred_data['vind_value'] = pred_data[['vind', 'value']].values.tolist()\n",
    "    pred_data = pred_data.groupby('ts_ind').agg({'vind_value':list}).reset_index()\n",
    "    pred_data['vind_value'] = pred_data['vind_value'].apply(f)   \n",
    "    \n",
    "    # observed data: from timestep w and 24h before that.  \n",
    "    # obs_data = data.loc[(data.hour<w)&(data.hour>=w-24)] # Original STraTS only uses data within a set timeframe,\n",
    "    obs_data = data.loc[(data.checkup<w)]#&(data.hour>=w-24)] # We are using all previous data since it is so sparce anyway.\n",
    "\n",
    "    obs_data = obs_data.loc[obs_data.ts_ind.isin(pred_data.ts_ind)]\n",
    "    obs_data = obs_data.groupby('ts_ind').head(fore_max_len)\n",
    "    obs_data = obs_data.groupby('ts_ind').agg({'vind':list, 'checkup':list, 'value':list}).reset_index()\n",
    "    obs_data = obs_data.merge(pred_data, on='ts_ind')\n",
    "    for col in ['vind', 'checkup', 'value']:\n",
    "        obs_data[col] = obs_data[col].apply(pad)\n",
    "    fore_op.append(np.array(list(obs_data.vind_value)))\n",
    "    fore_inds.append(np.array(list(obs_data.ts_ind)))\n",
    "    fore_times_ip.append(np.array(list(obs_data.checkup)))\n",
    "    fore_values_ip.append(np.array(list(obs_data.value)))\n",
    "    fore_varis_ip.append(np.array(list(obs_data.vind)))\n",
    "\n",
    "    \n",
    "\n",
    "\n",
    "del data\n",
    "fore_times_ip = np.concatenate(fore_times_ip, axis=0)\n",
    "fore_values_ip = np.concatenate(fore_values_ip, axis=0)\n",
    "fore_varis_ip = np.concatenate(fore_varis_ip, axis=0)\n",
    "fore_op = np.concatenate(fore_op, axis=0)\n",
    "fore_inds = np.concatenate(fore_inds, axis=0)\n",
    "fore_demo = demo[fore_inds]\n",
    "# Get train and valid ts_ind for forecast task.\n",
    "train_sub = oc.loc[oc.ts_ind.isin(train_ind)].ts_ind.unique()\n",
    "valid_sub = oc.loc[oc.ts_ind.isin(valid_ind)].ts_ind.unique()\n",
    "rem_sub = oc.loc[~oc.ts_ind.isin(np.concatenate((train_ind, valid_ind)))].ts_ind.unique() \n",
    "# rem_sub: remaining sub gets added to training and validation subs. \n",
    "bp = int(0.8*len(rem_sub))\n",
    "train_sub = np.concatenate((train_sub, rem_sub[:bp]))\n",
    "valid_sub = np.concatenate((valid_sub, rem_sub[bp:]))\n",
    "train_ind = oc.loc[oc.ts_ind.isin(train_sub)].ts_ind.unique() # Add remaining ts_ind s of train subjects.\n",
    "valid_ind = oc.loc[oc.ts_ind.isin(valid_sub)].ts_ind.unique() # Add remaining ts_ind s of train subjects.\n",
    "# Generate 3 sets of inputs and outputs.\n",
    "train_ind = np.argwhere(np.in1d(fore_inds, train_ind)).flatten()\n",
    "valid_ind = np.argwhere(np.in1d(fore_inds, valid_ind)).flatten()\n",
    "fore_train_ip = [ip[train_ind] for ip in [fore_demo, fore_times_ip, fore_values_ip, fore_varis_ip]]\n",
    "fore_valid_ip = [ip[valid_ind] for ip in [fore_demo, fore_times_ip, fore_values_ip, fore_varis_ip]]\n",
    "# del fore_times_ip, fore_values_ip, fore_varis_ip, demo, fore_demo\n",
    "fore_train_op = fore_op[train_ind]\n",
    "fore_valid_op = fore_op[valid_ind]\n",
    "del fore_op\n",
    "\n"
   ]
  },
  {
   "attachments": {},
   "cell_type": "markdown",
   "id": "imperial-concern",
   "metadata": {},
   "source": [
    "## Load target dataset into matrices."
   ]
  },
  {
   "cell_type": "code",
   "execution_count": 7,
   "id": "5cf4ed2e",
   "metadata": {},
   "outputs": [
    {
     "name": "stdout",
     "output_type": "stream",
     "text": [
      "Data in use:  ./data/triplets_bodo_O4U60_WardALL_ImputeGender.pkl\n"
     ]
    },
    {
     "name": "stderr",
     "output_type": "stream",
     "text": [
      "164160it [00:00, 1085753.26it/s]\n",
      "492480it [00:00, 922607.76it/s]\n"
     ]
    }
   ],
   "source": [
    "\n",
    "# Read data.\n",
    "if DATA_SET=='physionet':\n",
    "    data, oc, train_ind, valid_ind, test_ind = pickle.load(open(DATA_PATH+'physionet_2012_preprocessed_noNormalization.pkl', 'rb'))\n",
    "    data = data.loc[data.variable.isin(feat_dynamic)]\n",
    "\n",
    "\n",
    "\n",
    "\n",
    "elif DATA_SET=='bodo':\n",
    "    data, oc, train_ind, valid_ind, test_ind = pickle.load(open(DATA_PATH+DATA_NAME, 'rb'))\n",
    "\n",
    "else:\n",
    "    print('cant find data, specify: DATA_PATH and DATA_NAME')\n",
    "\n",
    "print('Data in use: ', DATA_PATH+DATA_NAME)\n",
    "\n",
    "\n",
    "# Filter labeled data in first 24h.\n",
    "data = data.loc[data.ts_ind.isin(np.concatenate((train_ind, valid_ind, test_ind), axis=-1))]\n",
    "data = data.loc[(data.hour>=0)&(data.hour<=24)]\n",
    "if 'StaticImputed' not in static_varis:\n",
    "        try:\n",
    "            data = data[data['variable'] != 'StaticImputed']\n",
    "            print('Dropped StaticImputed')\n",
    "        except:\n",
    "            print('No StaticImputed in data')\n",
    "oc = oc.loc[oc.ts_ind.isin(np.concatenate((train_ind, valid_ind, test_ind), axis=-1))]\n",
    "# Fix age.\n",
    "data.loc[(data.variable=='Age')&(data.value>200), 'value'] = 91.4\n",
    "# Get y and N.\n",
    "y = np.array(oc.sort_values(by='ts_ind')['in_hospital_mortality']).astype('float32')\n",
    "N = data.ts_ind.max() + 1\n",
    "# Get static data with mean fill and missingness indicator.\n",
    "ii = data.variable.isin(static_varis)\n",
    "static_data = data.loc[ii]\n",
    "data = data.loc[~ii]\n",
    "def inv_list(l, start=0):\n",
    "    d = {}\n",
    "    for i in range(len(l)):\n",
    "        d[l[i]] = i+start\n",
    "    return d\n",
    "static_var_to_ind = inv_list(static_varis)\n",
    "D = len(static_varis)\n",
    "demo = np.zeros((N, D))\n",
    "for row in tqdm(static_data.itertuples()):\n",
    "    demo[row.ts_ind, static_var_to_ind[row.variable]] = row.value\n",
    "# Normalize static data.\n",
    "means = demo.mean(axis=0, keepdims=True)\n",
    "stds = demo.std(axis=0, keepdims=True)\n",
    "stds = (stds==0)*1 + (stds!=0)*stds\n",
    "demo = (demo-means)/stds\n",
    "\n",
    "\n",
    "if DATA_SET=='physionet':\n",
    "    # normalize with ideal values, Bodo features\n",
    "    # opt_val = [['PatientID','WardID','Timestamp', 'Systolic', 'Diastolic', 'O2', 'Pulse', 'Temp', 'Rf', 'Gender', 'onO2',   'Unconscious', 'EwsScore', 'StaticImputed']]\n",
    "    # opt_val = [     0,          0,          0,          120,        80,      96,    70,     37,     16,     0,        0,             0,       0,              0 ]\n",
    "\n",
    "    data.loc[data.variable == 'HR', 'value'] -= 70\n",
    "    data.loc[data.variable == 'RespRate', 'value'] -= 16\n",
    "    data.loc[data.variable == 'Temp', 'value'] -= 37\n",
    "    data.loc[data.variable == 'SaO2', 'value'] -= 96\n",
    "    data.loc[data.variable == 'NIDiasABP', 'value'] -= 80\n",
    "    data.loc[data.variable == 'NISysABP', 'value'] -= 120\n",
    "\n",
    "    # Add columns to the data: checkup, number of checkups on the patient at the given row\n",
    "    patient_ids = data.ts_ind.unique()\n",
    "    data_grouped = data.groupby('ts_ind')\n",
    "    def generate_checkups(patient_data):\n",
    "        reps = patient_data['hour'].value_counts(sort=False)\n",
    "        checkups = np.repeat(np.arange(len(reps)), reps)\n",
    "        return pd.DataFrame({'checkup': checkups})\n",
    "\n",
    "    df_checkup = data_grouped.apply(generate_checkups).reset_index(level=1, drop=True).reset_index()\n",
    "    data['checkup'] = df_checkup['checkup'].values\n",
    "\n",
    "    # Add columns to the data: PatientID, same as ts_ind for Physionet\n",
    "    data['PatientID'] = data['ts_ind']\n",
    "    data = data[['ts_ind', 'PatientID', 'checkup', 'hour', 'variable', 'value', 'mean', 'std']]\n",
    "\n",
    "    # Drop patients with less than MIN_LENGTH_OF_STAY different times with datasamples\n",
    "    droppedID = data[data_grouped['checkup'].transform('max') <= MIN_LENGTH_OF_STAY]['ts_ind'].unique()\n",
    "    data = data[~data['ts_ind'].isin(droppedID)]\n",
    "    print(f'Dropped {len(droppedID)} patients with less then MIN_LENGTH_OF_STAY:{MIN_LENGTH_OF_STAY} samples.')\n",
    "\n",
    "\n",
    "# Trim to max len.\n",
    "data = data.sample(frac=1)\n",
    "data = data.groupby('ts_ind').head(880)\n",
    "# Get N, V, var_to_ind.\n",
    "N = data.ts_ind.max() + 1\n",
    "varis = sorted(list(set(data.variable)))\n",
    "V = len(varis)\n",
    "def inv_list(l, start=0):\n",
    "    d = {}\n",
    "    for i in range(len(l)):\n",
    "        d[l[i]] = i+start\n",
    "    return d\n",
    "var_to_ind = inv_list(varis, start=1)\n",
    "data['vind'] = data.variable.map(var_to_ind)\n",
    "data = data[['ts_ind', 'vind', 'hour', 'value']].sort_values(by=['ts_ind', 'vind', 'hour'])\n",
    "# Add obs index.\n",
    "data = data.sort_values(by=['ts_ind']).reset_index(drop=True)\n",
    "data = data.reset_index().rename(columns={'index':'obs_ind'})\n",
    "data = data.merge(data.groupby('ts_ind').agg({'obs_ind':'min'}).reset_index().rename(columns={ \\\n",
    "                                                            'obs_ind':'first_obs_ind'}), on='ts_ind')\n",
    "data['obs_ind'] = data['obs_ind'] - data['first_obs_ind']\n",
    "# Find max_len.\n",
    "max_len = data.obs_ind.max()+1\n",
    "# print ('max_len', max_len)\n",
    "# Generate times_ip and values_ip matrices.\n",
    "times_inp = np.zeros((N, max_len), dtype='float32')\n",
    "values_inp = np.zeros((N, max_len), dtype='float32')\n",
    "varis_inp = np.zeros((N, max_len), dtype='int32')\n",
    "for row in tqdm(data.itertuples()):\n",
    "    ts_ind = row.ts_ind\n",
    "    l = row.obs_ind\n",
    "    times_inp[ts_ind, l] = row.hour\n",
    "    values_inp[ts_ind, l] = row.value\n",
    "    varis_inp[ts_ind, l] = row.vind\n",
    "data.drop(columns=['obs_ind', 'first_obs_ind'], inplace=True)\n",
    "\n",
    "# Generate 3 sets of inputs and outputs.\n",
    "train_ip = [ip[train_ind] for ip in [demo, times_inp, values_inp, varis_inp]]\n",
    "valid_ip = [ip[valid_ind] for ip in [demo, times_inp, values_inp, varis_inp]]\n",
    "test_ip = [ip[test_ind] for ip in [demo, times_inp, values_inp, varis_inp]]\n",
    "del times_inp, values_inp, varis_inp\n",
    "train_op = y[train_ind]\n",
    "valid_op = y[valid_ind]\n",
    "test_op = y[test_ind]\n",
    "del y\n",
    "\n",
    "# y = np.concatenate((train_op,valid_op,test_op))\n",
    "# y.sum()/len(y)"
   ]
  },
  {
   "attachments": {},
   "cell_type": "markdown",
   "id": "convinced-vault",
   "metadata": {},
   "source": [
    "## Define metrics and losses."
   ]
  },
  {
   "cell_type": "code",
   "execution_count": 8,
   "id": "familiar-weight",
   "metadata": {},
   "outputs": [],
   "source": [
    "def get_res(y_true, y_pred):\n",
    "    precision, recall, thresholds = precision_recall_curve(y_true, y_pred)\n",
    "    pr_auc = auc(recall, precision)\n",
    "    minrp = np.minimum(precision, recall).max()\n",
    "    roc_auc = roc_auc_score(y_true, y_pred)\n",
    "    return [roc_auc, pr_auc, minrp]\n",
    "    \n",
    "class_weights = compute_class_weight(class_weight='balanced', classes=[0,1], y=train_op)\n",
    "def mortality_loss(y_true, y_pred):\n",
    "    sample_weights = (1-y_true)*class_weights[0] + y_true*class_weights[1]\n",
    "    bce = K.binary_crossentropy(y_true, y_pred)\n",
    "    return K.mean(sample_weights*bce, axis=-1)\n",
    "\n",
    "def forecast_loss(y_true, y_pred):\n",
    "    return K.sum(y_true[:,V:]*(y_true[:,:V]-y_pred)**2, axis=-1)\n",
    "\n",
    "def get_min_loss(weight):\n",
    "    def min_loss(y_true, y_pred):\n",
    "        return weight*y_pred\n",
    "    return min_loss\n",
    "\n",
    "class CustomCallback(Callback):\n",
    "    def __init__(self, validation_data, batch_size):\n",
    "        self.val_x, self.val_y = validation_data\n",
    "        self.batch_size = batch_size\n",
    "        super(Callback, self).__init__()\n",
    "\n",
    "    def on_epoch_end(self, epoch, logs={}):\n",
    "        y_pred = self.model.predict(self.val_x, verbose=0, batch_size=self.batch_size)\n",
    "        if type(y_pred)==type([]):\n",
    "            y_pred = y_pred[0]\n",
    "        precision, recall, thresholds = precision_recall_curve(self.val_y, y_pred)\n",
    "        pr_auc = auc(recall, precision)\n",
    "        roc_auc = roc_auc_score(self.val_y, y_pred)\n",
    "        logs['custom_metric'] = pr_auc + roc_auc\n",
    "        print ('val_aucs:', pr_auc, roc_auc)"
   ]
  },
  {
   "attachments": {},
   "cell_type": "markdown",
   "id": "metallic-forth",
   "metadata": {},
   "source": [
    "## Define model architecture."
   ]
  },
  {
   "cell_type": "code",
   "execution_count": 9,
   "id": "subsequent-deputy",
   "metadata": {},
   "outputs": [],
   "source": [
    "import tensorflow as tf\n",
    "import numpy as np\n",
    "import tensorflow.keras.backend as K\n",
    "from tensorflow.keras.layers import Embedding, Activation, Dropout, Softmax, Layer, InputSpec, Input, Dense, Lambda, TimeDistributed, Concatenate, Add\n",
    "from tensorflow.keras import initializers, regularizers, constraints, Model\n",
    "from tensorflow.python.keras.utils import tf_utils\n",
    "from tensorflow.python.ops import array_ops\n",
    "from tensorflow import nn\n",
    "\n",
    "    \n",
    "class CVE(Layer):\n",
    "    def __init__(self, hid_units, output_dim):\n",
    "        self.hid_units = hid_units\n",
    "        self.output_dim = output_dim\n",
    "        super(CVE, self).__init__()\n",
    "        \n",
    "    def build(self, input_shape): \n",
    "        self.W1 = self.add_weight(name='CVE_W1',\n",
    "                            shape=(1, self.hid_units),\n",
    "                            initializer='glorot_uniform',\n",
    "                            trainable=True)\n",
    "        self.b1 = self.add_weight(name='CVE_b1',\n",
    "                            shape=(self.hid_units,),\n",
    "                            initializer='zeros',\n",
    "                            trainable=True)\n",
    "        self.W2 = self.add_weight(name='CVE_W2',\n",
    "                            shape=(self.hid_units, self.output_dim),\n",
    "                            initializer='glorot_uniform',\n",
    "                            trainable=True)\n",
    "        super(CVE, self).build(input_shape)\n",
    "        \n",
    "    def call(self, x):\n",
    "        x = K.expand_dims(x, axis=-1)\n",
    "        x = K.dot(K.tanh(K.bias_add(K.dot(x, self.W1), self.b1)), self.W2)\n",
    "        return x\n",
    "        \n",
    "    def compute_output_shape(self, input_shape):\n",
    "        return input_shape + (self.output_dim,)\n",
    "    \n",
    "    \n",
    "class Attention(Layer):\n",
    "    \n",
    "    def __init__(self, hid_dim):\n",
    "        self.hid_dim = hid_dim\n",
    "        super(Attention, self).__init__()\n",
    "\n",
    "    def build(self, input_shape):\n",
    "        d = input_shape.as_list()[-1]\n",
    "        self.W = self.add_weight(shape=(d, self.hid_dim), name='Att_W',\n",
    "                                 initializer='glorot_uniform',\n",
    "                                 trainable=True)\n",
    "        self.b = self.add_weight(shape=(self.hid_dim,), name='Att_b',\n",
    "                                 initializer='zeros',\n",
    "                                 trainable=True)\n",
    "        self.u = self.add_weight(shape=(self.hid_dim,1), name='Att_u',\n",
    "                                 initializer='glorot_uniform',\n",
    "                                 trainable=True)\n",
    "        super(Attention, self).build(input_shape)\n",
    "        \n",
    "    def call(self, x, mask, mask_value=-1e30):\n",
    "        attn_weights = K.dot(K.tanh(K.bias_add(K.dot(x,self.W), self.b)), self.u)\n",
    "        mask = K.expand_dims(mask, axis=-1)\n",
    "        attn_weights = mask*attn_weights + (1-mask)*mask_value\n",
    "        attn_weights = K.softmax(attn_weights, axis=-2)\n",
    "        return attn_weights\n",
    "        \n",
    "    def compute_output_shape(self, input_shape):\n",
    "        return input_shape[:-1] + (1,)\n",
    "    \n",
    "    \n",
    "class Transformer(Layer):\n",
    "    \n",
    "    def __init__(self, N=2, h=8, dk=None, dv=None, dff=None, dropout=0):\n",
    "        self.N, self.h, self.dk, self.dv, self.dff, self.dropout = N, h, dk, dv, dff, dropout\n",
    "        self.epsilon = K.epsilon() * K.epsilon()\n",
    "        super(Transformer, self).__init__()\n",
    "\n",
    "    def build(self, input_shape):\n",
    "        d = input_shape.as_list()[-1]\n",
    "        if self.dk==None:\n",
    "            self.dk = d//self.h\n",
    "        if self.dv==None:\n",
    "            self.dv = d//self.h\n",
    "        if self.dff==None:\n",
    "            self.dff = 2*d\n",
    "        self.Wq = self.add_weight(shape=(self.N, self.h, d, self.dk), name='Wq',\n",
    "                                 initializer='glorot_uniform', trainable=True)\n",
    "        self.Wk = self.add_weight(shape=(self.N, self.h, d, self.dk), name='Wk',\n",
    "                                 initializer='glorot_uniform', trainable=True)\n",
    "        self.Wv = self.add_weight(shape=(self.N, self.h, d, self.dv), name='Wv',\n",
    "                                 initializer='glorot_uniform', trainable=True)\n",
    "        self.Wo = self.add_weight(shape=(self.N, self.dv*self.h, d), name='Wo',\n",
    "                                 initializer='glorot_uniform', trainable=True)\n",
    "        self.W1 = self.add_weight(shape=(self.N, d, self.dff), name='W1',\n",
    "                                 initializer='glorot_uniform', trainable=True)\n",
    "        self.b1 = self.add_weight(shape=(self.N, self.dff), name='b1',\n",
    "                                 initializer='zeros', trainable=True)\n",
    "        self.W2 = self.add_weight(shape=(self.N, self.dff, d), name='W2',\n",
    "                                 initializer='glorot_uniform', trainable=True)\n",
    "        self.b2 = self.add_weight(shape=(self.N, d), name='b2',\n",
    "                                 initializer='zeros', trainable=True)\n",
    "        self.gamma = self.add_weight(shape=(2*self.N,), name='gamma',\n",
    "                                 initializer='ones', trainable=True)\n",
    "        self.beta = self.add_weight(shape=(2*self.N,), name='beta',\n",
    "                                 initializer='zeros', trainable=True)\n",
    "        super(Transformer, self).build(input_shape)\n",
    "        \n",
    "    def call(self, x, mask, mask_value=-1e-30):\n",
    "        start = time.time()\n",
    "        mask = K.expand_dims(mask, axis=-2)\n",
    "        for i in range(self.N):\n",
    "            # MHA\n",
    "            mha_ops = []\n",
    "            for j in range(self.h):\n",
    "                q = K.dot(x, self.Wq[i,j,:,:])\n",
    "                k = K.permute_dimensions(K.dot(x, self.Wk[i,j,:,:]), (0,2,1))\n",
    "                v = K.dot(x, self.Wv[i,j,:,:])\n",
    "                A = K.batch_dot(q,k)\n",
    "                # Mask unobserved steps.\n",
    "                A = mask*A + (1-mask)*mask_value\n",
    "                # Mask for attention dropout.\n",
    "                def dropped_A():\n",
    "                    dp_mask = K.cast((K.random_uniform(shape=array_ops.shape(A))>=self.dropout), K.floatx())\n",
    "                    return A*dp_mask + (1-dp_mask)*mask_value\n",
    "                A = smart_cond(K.learning_phase(), dropped_A, lambda: array_ops.identity(A))\n",
    "                A = K.softmax(A, axis=-1)\n",
    "                mha_ops.append(K.batch_dot(A,v))\n",
    "            conc = K.concatenate(mha_ops, axis=-1)\n",
    "            proj = K.dot(conc, self.Wo[i,:,:])\n",
    "            # Dropout.\n",
    "            proj = smart_cond(K.learning_phase(), lambda: array_ops.identity(nn.dropout(proj, rate=self.dropout)),\\\n",
    "                                       lambda: array_ops.identity(proj))\n",
    "            # Add & LN\n",
    "            x = x+proj\n",
    "            mean = K.mean(x, axis=-1, keepdims=True)\n",
    "            variance = K.mean(K.square(x - mean), axis=-1, keepdims=True)\n",
    "            std = K.sqrt(variance + self.epsilon)\n",
    "            x = (x - mean) / std\n",
    "            x = x*self.gamma[2*i] + self.beta[2*i]\n",
    "            # FFN\n",
    "            ffn_op = K.bias_add(K.dot(K.relu(K.bias_add(K.dot(x, self.W1[i,:,:]), self.b1[i,:])), \n",
    "                           self.W2[i,:,:]), self.b2[i,:,])\n",
    "            # Dropout.\n",
    "            ffn_op = smart_cond(K.learning_phase(), lambda: array_ops.identity(nn.dropout(ffn_op, rate=self.dropout)),\\\n",
    "                                       lambda: array_ops.identity(ffn_op))\n",
    "            # Add & LN\n",
    "            x = x+ffn_op\n",
    "            mean = K.mean(x, axis=-1, keepdims=True)\n",
    "            variance = K.mean(K.square(x - mean), axis=-1, keepdims=True)\n",
    "            std = K.sqrt(variance + self.epsilon)\n",
    "            x = (x - mean) / std\n",
    "            x = x*self.gamma[2*i+1] + self.beta[2*i+1]            \n",
    "        return x\n",
    "        \n",
    "    def compute_output_shape(self, input_shape):\n",
    "        return input_shape\n",
    "\n",
    "\n",
    "def build_strats(D, max_len, V, d, d_demo, N, he, dropout, forecast=False):\n",
    "    start = time.time()\n",
    "    demo = Input(shape=(D,))\n",
    "    demo_enc = Dense(2*d_demo, activation='tanh')(demo)\n",
    "    demo_enc = Dense(d_demo, activation='tanh')(demo_enc)\n",
    "    \n",
    "    varis = Input(shape=(max_len,))\n",
    "    values = Input(shape=(max_len,))\n",
    "    times = Input(shape=(max_len,))\n",
    "    varis_emb = Embedding(V+1, d)(varis)\n",
    "    cve_units = int(np.sqrt(d))\n",
    "    values_emb = CVE(cve_units, d)(values)\n",
    "    times_emb = CVE(cve_units, d)(times)\n",
    "    comb_emb = Add()([varis_emb, values_emb, times_emb]) # b, L, d\n",
    "    mask = Lambda(lambda x:K.clip(x,0,1))(varis) # b, L\n",
    "    cont_emb = Transformer(N, he, dk=None, dv=None, dff=None, dropout=dropout)(comb_emb, mask=mask)\n",
    "    attn_weights = Attention(2*d)(cont_emb, mask=mask)\n",
    "    fused_emb = Lambda(lambda x:K.sum(x[0]*x[1], axis=-2))([cont_emb, attn_weights])\n",
    "    conc = Concatenate(axis=-1)([fused_emb, demo_enc])\n",
    "    encoder_model = Model([demo, times, values, varis], conc)\n",
    "    \n",
    "    if forecast:\n",
    "        fore_op = Dense(V)(conc)\n",
    "        fore_model = Model([demo, times, values, varis], fore_op)\n",
    "        return [encoder_model, fore_model]\n",
    "    \n",
    "    return encoder_model"
   ]
  },
  {
   "attachments": {},
   "cell_type": "markdown",
   "id": "quick-fetish",
   "metadata": {},
   "source": [
    "## Pretrain on forecasting."
   ]
  },
  {
   "cell_type": "code",
   "execution_count": 10,
   "id": "temporal-grain",
   "metadata": {
    "scrolled": true
   },
   "outputs": [
    {
     "name": "stdout",
     "output_type": "stream",
     "text": [
      "D=4, fore_max_len=60, V=9, d_var=40, d_demo=10, N=2, he=4, dropout=0.2\n",
      "Model: \"model_1\"\n",
      "__________________________________________________________________________________________________\n",
      " Layer (type)                   Output Shape         Param #     Connected to                     \n",
      "==================================================================================================\n",
      " input_2 (InputLayer)           [(None, 60)]         0           []                               \n",
      "                                                                                                  \n",
      " input_3 (InputLayer)           [(None, 60)]         0           []                               \n",
      "                                                                                                  \n",
      " input_4 (InputLayer)           [(None, 60)]         0           []                               \n",
      "                                                                                                  \n",
      " embedding (Embedding)          (None, 60, 40)       400         ['input_2[0][0]']                \n",
      "                                                                                                  \n",
      " cve (CVE)                      (None, 60, 40)       252         ['input_3[0][0]']                \n",
      "                                                                                                  \n",
      " cve_1 (CVE)                    (None, 60, 40)       252         ['input_4[0][0]']                \n",
      "                                                                                                  \n",
      " add (Add)                      (None, 60, 40)       0           ['embedding[0][0]',              \n",
      "                                                                  'cve[0][0]',                    \n",
      "                                                                  'cve_1[0][0]']                  \n",
      "                                                                                                  \n",
      " lambda (Lambda)                (None, 60)           0           ['input_2[0][0]']                \n",
      "                                                                                                  \n",
      " transformer (Transformer)      (None, 60, 40)       25848       ['add[0][0]',                    \n",
      "                                                                  'lambda[0][0]']                 \n",
      "                                                                                                  \n",
      " input_1 (InputLayer)           [(None, 4)]          0           []                               \n",
      "                                                                                                  \n",
      " attention (Attention)          (None, 60, 1)        3360        ['transformer[0][0]',            \n",
      "                                                                  'lambda[0][0]']                 \n",
      "                                                                                                  \n",
      " dense (Dense)                  (None, 20)           100         ['input_1[0][0]']                \n",
      "                                                                                                  \n",
      " lambda_1 (Lambda)              (None, 40)           0           ['transformer[0][0]',            \n",
      "                                                                  'attention[0][0]']              \n",
      "                                                                                                  \n",
      " dense_1 (Dense)                (None, 10)           210         ['dense[0][0]']                  \n",
      "                                                                                                  \n",
      " concatenate (Concatenate)      (None, 50)           0           ['lambda_1[0][0]',               \n",
      "                                                                  'dense_1[0][0]']                \n",
      "                                                                                                  \n",
      " dense_2 (Dense)                (None, 9)            459         ['concatenate[0][0]']            \n",
      "                                                                                                  \n",
      "==================================================================================================\n",
      "Total params: 30,881\n",
      "Trainable params: 30,881\n",
      "Non-trainable params: 0\n",
      "__________________________________________________________________________________________________\n",
      "None\n"
     ]
    },
    {
     "data": {
      "image/png": "[encoded data removed]",
      "text/plain": [
       "<IPython.core.display.Image object>"
      ]
     },
     "execution_count": 10,
     "metadata": {},
     "output_type": "execute_result"
    }
   ],
   "source": [
    "if DATA_SET == 'bodo':\n",
    "    lr, batch_size, samples_per_epoch, patience = 0.0005, 32, 10240, 10\n",
    "\n",
    "elif DATA_SET=='physionet':\n",
    "    lr, batch_size, samples_per_epoch, patience = 0.0005, 32, 10240, 10\n",
    "\n",
    "\n",
    "#########################################################################################################################\n",
    "#########################################################################################################################\n",
    "#NOTE: The weights get saved in the same folder as this code and not the weight folder that is used for the encoder. \n",
    "#NOTE: This is to reduce risk of overwriting  it. \n",
    "#########################################################################################################################\n",
    "#########################################################################################################################\n",
    "\n",
    "\n",
    "# d, N, he, dropout = 50, 2, 4, 0.2\n",
    "d_var = HYPER_PARAM['d_var']  \n",
    "d_demo = HYPER_PARAM['d_demo'] \n",
    "N = HYPER_PARAM['N'] \n",
    "he = HYPER_PARAM['he']  \n",
    "dropout = HYPER_PARAM['dropout'] \n",
    "print(f'D={D}, fore_max_len={fore_max_len}, V={V}, d_var={d_var}, d_demo={d_demo}, N={N}, he={he}, dropout={dropout}')\n",
    "\n",
    "encoder_model, fore_model =  build_strats(D, fore_max_len, V, d_var, d_demo, N, he, dropout, forecast=True)\n",
    "print (fore_model.summary())\n",
    "fore_model.compile(loss=forecast_loss, optimizer=Adam(lr))\n",
    "\n",
    "# Pretrain fore_model.\n",
    "best_val_loss = np.inf\n",
    "N_fore = len(fore_train_op)\n",
    "\n",
    "\n",
    "tf.keras.utils.plot_model(encoder_model, to_file='model_plot.png', show_shapes=True, show_layer_names=True)\n"
   ]
  },
  {
   "cell_type": "code",
   "execution_count": 11,
   "id": "e7280661",
   "metadata": {},
   "outputs": [
    {
     "name": "stderr",
     "output_type": "stream",
     "text": [
      "0.194849: 100%|██████████| 320/320 [00:08<00:00, 35.61it/s]\n"
     ]
    },
    {
     "name": "stdout",
     "output_type": "stream",
     "text": [
      "452/452 [==============================] - 2s 4ms/step - loss: 5.6785\n",
      "Epoch 0 loss 6.216303838044405 val loss 5.678510665893555\n"
     ]
    },
    {
     "name": "stderr",
     "output_type": "stream",
     "text": [
      "0.165231: 100%|██████████| 320/320 [00:05<00:00, 60.54it/s]\n"
     ]
    },
    {
     "name": "stdout",
     "output_type": "stream",
     "text": [
      "452/452 [==============================] - 2s 4ms/step - loss: 4.9971\n",
      "Epoch 1 loss 5.2713814653456215 val loss 4.9970927238464355\n"
     ]
    },
    {
     "name": "stderr",
     "output_type": "stream",
     "text": [
      "0.151839: 100%|██████████| 320/320 [00:05<00:00, 61.29it/s]\n"
     ]
    },
    {
     "name": "stdout",
     "output_type": "stream",
     "text": [
      "452/452 [==============================] - 2s 4ms/step - loss: 4.7823\n",
      "Epoch 2 loss 4.844142132252455 val loss 4.782284736633301\n"
     ]
    },
    {
     "name": "stderr",
     "output_type": "stream",
     "text": [
      "0.141929: 100%|██████████| 320/320 [00:05<00:00, 61.09it/s]\n"
     ]
    },
    {
     "name": "stdout",
     "output_type": "stream",
     "text": [
      "452/452 [==============================] - 2s 4ms/step - loss: 4.5494\n",
      "Epoch 3 loss 4.527981555461883 val loss 4.549375057220459\n"
     ]
    },
    {
     "name": "stderr",
     "output_type": "stream",
     "text": [
      "0.139230: 100%|██████████| 320/320 [00:05<00:00, 59.47it/s]\n"
     ]
    },
    {
     "name": "stdout",
     "output_type": "stream",
     "text": [
      "452/452 [==============================] - 2s 4ms/step - loss: 4.3510\n",
      "Epoch 4 loss 4.441871339827776 val loss 4.351036071777344\n"
     ]
    },
    {
     "name": "stderr",
     "output_type": "stream",
     "text": [
      "0.133222: 100%|██████████| 320/320 [00:05<00:00, 59.44it/s]\n"
     ]
    },
    {
     "name": "stdout",
     "output_type": "stream",
     "text": [
      "452/452 [==============================] - 2s 4ms/step - loss: 4.3429\n",
      "Epoch 5 loss 4.25021196603775 val loss 4.342867374420166\n"
     ]
    },
    {
     "name": "stderr",
     "output_type": "stream",
     "text": [
      "0.132406: 100%|██████████| 320/320 [00:05<00:00, 58.34it/s]\n"
     ]
    },
    {
     "name": "stdout",
     "output_type": "stream",
     "text": [
      "452/452 [==============================] - 2s 4ms/step - loss: 4.3046\n",
      "Epoch 6 loss 4.224151585996151 val loss 4.304609775543213\n"
     ]
    },
    {
     "name": "stderr",
     "output_type": "stream",
     "text": [
      "0.130628: 100%|██████████| 320/320 [00:05<00:00, 57.36it/s]\n"
     ]
    },
    {
     "name": "stdout",
     "output_type": "stream",
     "text": [
      "452/452 [==============================] - 2s 4ms/step - loss: 4.2512\n",
      "Epoch 7 loss 4.167451313138008 val loss 4.25119161605835\n"
     ]
    },
    {
     "name": "stderr",
     "output_type": "stream",
     "text": [
      "0.132431: 100%|██████████| 320/320 [00:05<00:00, 57.15it/s]\n"
     ]
    },
    {
     "name": "stdout",
     "output_type": "stream",
     "text": [
      "452/452 [==============================] - 2s 4ms/step - loss: 4.2650\n",
      "Epoch 8 loss 4.22497700303793 val loss 4.264966011047363\n"
     ]
    },
    {
     "name": "stderr",
     "output_type": "stream",
     "text": [
      "0.130548: 100%|██████████| 320/320 [00:05<00:00, 58.99it/s]\n"
     ]
    },
    {
     "name": "stdout",
     "output_type": "stream",
     "text": [
      "452/452 [==============================] - 2s 4ms/step - loss: 4.2131\n",
      "Epoch 9 loss 4.164896717667579 val loss 4.213089466094971\n"
     ]
    },
    {
     "name": "stderr",
     "output_type": "stream",
     "text": [
      "0.132222: 100%|██████████| 320/320 [00:05<00:00, 61.97it/s]\n"
     ]
    },
    {
     "name": "stdout",
     "output_type": "stream",
     "text": [
      "452/452 [==============================] - 2s 4ms/step - loss: 4.1905\n",
      "Epoch 10 loss 4.2183084100484844 val loss 4.190474987030029\n"
     ]
    },
    {
     "name": "stderr",
     "output_type": "stream",
     "text": [
      "0.128371: 100%|██████████| 320/320 [00:05<00:00, 60.71it/s]"
     ]
    },
    {
     "name": "stdout",
     "output_type": "stream",
     "text": [
      "  1/452 [..............................] - ETA: 8s - loss: 4.7642"
     ]
    },
    {
     "name": "stderr",
     "output_type": "stream",
     "text": [
      "\n"
     ]
    },
    {
     "name": "stdout",
     "output_type": "stream",
     "text": [
      "452/452 [==============================] - 2s 4ms/step - loss: 4.1547\n",
      "Epoch 11 loss 4.095432247966528 val loss 4.154720306396484\n"
     ]
    },
    {
     "name": "stderr",
     "output_type": "stream",
     "text": [
      "0.127368: 100%|██████████| 320/320 [00:05<00:00, 60.91it/s]\n"
     ]
    },
    {
     "name": "stdout",
     "output_type": "stream",
     "text": [
      "452/452 [==============================] - 2s 4ms/step - loss: 4.1360\n",
      "Epoch 12 loss 4.063446574658156 val loss 4.136012554168701\n"
     ]
    },
    {
     "name": "stderr",
     "output_type": "stream",
     "text": [
      "0.124928: 100%|██████████| 320/320 [00:05<00:00, 60.26it/s]\n"
     ]
    },
    {
     "name": "stdout",
     "output_type": "stream",
     "text": [
      "452/452 [==============================] - 2s 4ms/step - loss: 4.1361\n",
      "Epoch 13 loss 3.9856071054935454 val loss 4.136068344116211\n"
     ]
    },
    {
     "name": "stderr",
     "output_type": "stream",
     "text": [
      "0.126976: 100%|██████████| 320/320 [00:05<00:00, 61.31it/s]\n"
     ]
    },
    {
     "name": "stdout",
     "output_type": "stream",
     "text": [
      "452/452 [==============================] - 2s 4ms/step - loss: 4.1566\n",
      "Epoch 14 loss 4.050942825525999 val loss 4.15655517578125\n"
     ]
    },
    {
     "name": "stderr",
     "output_type": "stream",
     "text": [
      "0.127620: 100%|██████████| 320/320 [00:05<00:00, 62.05it/s]\n"
     ]
    },
    {
     "name": "stdout",
     "output_type": "stream",
     "text": [
      "452/452 [==============================] - 2s 4ms/step - loss: 4.1119\n",
      "Epoch 15 loss 4.071477229148149 val loss 4.111919403076172\n"
     ]
    },
    {
     "name": "stderr",
     "output_type": "stream",
     "text": [
      "0.130748: 100%|██████████| 320/320 [00:05<00:00, 63.38it/s]\n"
     ]
    },
    {
     "name": "stdout",
     "output_type": "stream",
     "text": [
      "452/452 [==============================] - 2s 4ms/step - loss: 4.0748\n",
      "Epoch 16 loss 4.171282360702753 val loss 4.074777126312256\n"
     ]
    },
    {
     "name": "stderr",
     "output_type": "stream",
     "text": [
      "0.125964: 100%|██████████| 320/320 [00:05<00:00, 62.63it/s]\n"
     ]
    },
    {
     "name": "stdout",
     "output_type": "stream",
     "text": [
      "452/452 [==============================] - 2s 4ms/step - loss: 4.0878\n",
      "Epoch 17 loss 4.018632170557976 val loss 4.087783336639404\n"
     ]
    },
    {
     "name": "stderr",
     "output_type": "stream",
     "text": [
      "0.125593: 100%|██████████| 320/320 [00:05<00:00, 62.25it/s]\n"
     ]
    },
    {
     "name": "stdout",
     "output_type": "stream",
     "text": [
      "452/452 [==============================] - 2s 4ms/step - loss: 4.1028\n",
      "Epoch 18 loss 4.006824148446322 val loss 4.1028151512146\n"
     ]
    },
    {
     "name": "stderr",
     "output_type": "stream",
     "text": [
      "0.122280: 100%|██████████| 320/320 [00:05<00:00, 63.75it/s]\n"
     ]
    },
    {
     "name": "stdout",
     "output_type": "stream",
     "text": [
      "452/452 [==============================] - 2s 4ms/step - loss: 4.0663\n",
      "Epoch 19 loss 3.9011190466582777 val loss 4.066320419311523\n"
     ]
    },
    {
     "name": "stderr",
     "output_type": "stream",
     "text": [
      "0.124145: 100%|██████████| 320/320 [00:05<00:00, 63.32it/s]\n"
     ]
    },
    {
     "name": "stdout",
     "output_type": "stream",
     "text": [
      "452/452 [==============================] - 2s 4ms/step - loss: 4.0582\n",
      "Epoch 20 loss 3.9606045968830585 val loss 4.058212757110596\n"
     ]
    },
    {
     "name": "stderr",
     "output_type": "stream",
     "text": [
      "0.123938: 100%|██████████| 320/320 [00:05<00:00, 63.03it/s]"
     ]
    },
    {
     "name": "stdout",
     "output_type": "stream",
     "text": [
      "  1/452 [..............................] - ETA: 8s - loss: 4.7878"
     ]
    },
    {
     "name": "stderr",
     "output_type": "stream",
     "text": [
      "\n"
     ]
    },
    {
     "name": "stdout",
     "output_type": "stream",
     "text": [
      "452/452 [==============================] - 2s 4ms/step - loss: 4.1014\n",
      "Epoch 21 loss 3.954024462774396 val loss 4.101391315460205\n"
     ]
    },
    {
     "name": "stderr",
     "output_type": "stream",
     "text": [
      "0.123153: 100%|██████████| 320/320 [00:04<00:00, 64.08it/s]\n"
     ]
    },
    {
     "name": "stdout",
     "output_type": "stream",
     "text": [
      "452/452 [==============================] - 2s 4ms/step - loss: 4.0627\n",
      "Epoch 22 loss 3.9289504140615463 val loss 4.062742710113525\n"
     ]
    },
    {
     "name": "stderr",
     "output_type": "stream",
     "text": [
      "0.123152: 100%|██████████| 320/320 [00:05<00:00, 61.16it/s]\n"
     ]
    },
    {
     "name": "stdout",
     "output_type": "stream",
     "text": [
      "452/452 [==============================] - 2s 4ms/step - loss: 4.0448\n",
      "Epoch 23 loss 3.928934343904257 val loss 4.044769763946533\n"
     ]
    },
    {
     "name": "stderr",
     "output_type": "stream",
     "text": [
      "0.127792: 100%|██████████| 320/320 [00:05<00:00, 61.79it/s]\n"
     ]
    },
    {
     "name": "stdout",
     "output_type": "stream",
     "text": [
      "452/452 [==============================] - 2s 4ms/step - loss: 4.0830\n",
      "Epoch 24 loss 4.076957170665264 val loss 4.082956314086914\n"
     ]
    },
    {
     "name": "stderr",
     "output_type": "stream",
     "text": [
      "0.124109: 100%|██████████| 320/320 [00:05<00:00, 62.11it/s]\n"
     ]
    },
    {
     "name": "stdout",
     "output_type": "stream",
     "text": [
      "452/452 [==============================] - 2s 4ms/step - loss: 4.1491\n",
      "Epoch 25 loss 3.9594667606055736 val loss 4.149067401885986\n"
     ]
    },
    {
     "name": "stderr",
     "output_type": "stream",
     "text": [
      "0.123412: 100%|██████████| 320/320 [00:05<00:00, 60.51it/s]"
     ]
    },
    {
     "name": "stdout",
     "output_type": "stream",
     "text": [
      "  1/452 [..............................] - ETA: 7s - loss: 4.7330"
     ]
    },
    {
     "name": "stderr",
     "output_type": "stream",
     "text": [
      "\n"
     ]
    },
    {
     "name": "stdout",
     "output_type": "stream",
     "text": [
      "452/452 [==============================] - 2s 4ms/step - loss: 4.0345\n",
      "Epoch 26 loss 3.937239167094231 val loss 4.034547805786133\n"
     ]
    },
    {
     "name": "stderr",
     "output_type": "stream",
     "text": [
      "0.124831: 100%|██████████| 320/320 [00:05<00:00, 59.96it/s]\n"
     ]
    },
    {
     "name": "stdout",
     "output_type": "stream",
     "text": [
      "452/452 [==============================] - 2s 4ms/step - loss: 4.0287\n",
      "Epoch 27 loss 3.982508910447359 val loss 4.0286865234375\n"
     ]
    },
    {
     "name": "stderr",
     "output_type": "stream",
     "text": [
      "0.124999: 100%|██████████| 320/320 [00:05<00:00, 61.88it/s]\n"
     ]
    },
    {
     "name": "stdout",
     "output_type": "stream",
     "text": [
      "452/452 [==============================] - 2s 4ms/step - loss: 4.0251\n",
      "Epoch 28 loss 3.9878553844988347 val loss 4.025140285491943\n"
     ]
    },
    {
     "name": "stderr",
     "output_type": "stream",
     "text": [
      "0.124572: 100%|██████████| 320/320 [00:05<00:00, 60.99it/s]"
     ]
    },
    {
     "name": "stdout",
     "output_type": "stream",
     "text": [
      "  1/452 [..............................] - ETA: 7s - loss: 4.6525"
     ]
    },
    {
     "name": "stderr",
     "output_type": "stream",
     "text": [
      "\n"
     ]
    },
    {
     "name": "stdout",
     "output_type": "stream",
     "text": [
      "452/452 [==============================] - 2s 4ms/step - loss: 4.0537\n",
      "Epoch 29 loss 3.974232643097639 val loss 4.05371618270874\n"
     ]
    },
    {
     "name": "stderr",
     "output_type": "stream",
     "text": [
      "0.124995: 100%|██████████| 320/320 [00:05<00:00, 58.95it/s]\n"
     ]
    },
    {
     "name": "stdout",
     "output_type": "stream",
     "text": [
      "452/452 [==============================] - 2s 4ms/step - loss: 4.0615\n",
      "Epoch 30 loss 3.9877262622117997 val loss 4.061548709869385\n"
     ]
    },
    {
     "name": "stderr",
     "output_type": "stream",
     "text": [
      "0.120915: 100%|██████████| 320/320 [00:05<00:00, 62.31it/s]\n"
     ]
    },
    {
     "name": "stdout",
     "output_type": "stream",
     "text": [
      "452/452 [==============================] - 2s 4ms/step - loss: 4.0651\n",
      "Epoch 31 loss 3.8575504451990126 val loss 4.065131187438965\n"
     ]
    },
    {
     "name": "stderr",
     "output_type": "stream",
     "text": [
      "0.125920: 100%|██████████| 320/320 [00:05<00:00, 63.25it/s]\n"
     ]
    },
    {
     "name": "stdout",
     "output_type": "stream",
     "text": [
      "452/452 [==============================] - 2s 4ms/step - loss: 4.0454\n",
      "Epoch 32 loss 4.017226871103048 val loss 4.045389175415039\n"
     ]
    },
    {
     "name": "stderr",
     "output_type": "stream",
     "text": [
      "0.122682: 100%|██████████| 320/320 [00:05<00:00, 62.69it/s]\n"
     ]
    },
    {
     "name": "stdout",
     "output_type": "stream",
     "text": [
      "452/452 [==============================] - 2s 4ms/step - loss: 4.0218\n",
      "Epoch 33 loss 3.9139297269284725 val loss 4.0217742919921875\n"
     ]
    },
    {
     "name": "stderr",
     "output_type": "stream",
     "text": [
      "0.123173: 100%|██████████| 320/320 [00:05<00:00, 62.19it/s]\n"
     ]
    },
    {
     "name": "stdout",
     "output_type": "stream",
     "text": [
      "452/452 [==============================] - 2s 4ms/step - loss: 4.0850\n",
      "Epoch 34 loss 3.929589519649744 val loss 4.085042476654053\n"
     ]
    },
    {
     "name": "stderr",
     "output_type": "stream",
     "text": [
      "0.124825: 100%|██████████| 320/320 [00:05<00:00, 62.69it/s]\n"
     ]
    },
    {
     "name": "stdout",
     "output_type": "stream",
     "text": [
      "452/452 [==============================] - 2s 4ms/step - loss: 4.0223\n",
      "Epoch 35 loss 3.982304797321558 val loss 4.022273063659668\n"
     ]
    },
    {
     "name": "stderr",
     "output_type": "stream",
     "text": [
      "0.125659: 100%|██████████| 320/320 [00:05<00:00, 63.03it/s]\n"
     ]
    },
    {
     "name": "stdout",
     "output_type": "stream",
     "text": [
      "452/452 [==============================] - 2s 4ms/step - loss: 4.0118\n",
      "Epoch 36 loss 4.008901549875736 val loss 4.01178503036499\n"
     ]
    },
    {
     "name": "stderr",
     "output_type": "stream",
     "text": [
      "0.122807: 100%|██████████| 320/320 [00:05<00:00, 62.49it/s]\n"
     ]
    },
    {
     "name": "stdout",
     "output_type": "stream",
     "text": [
      "452/452 [==============================] - 2s 4ms/step - loss: 4.0239\n",
      "Epoch 37 loss 3.9179334856569765 val loss 4.02388334274292\n"
     ]
    },
    {
     "name": "stderr",
     "output_type": "stream",
     "text": [
      "0.125155: 100%|██████████| 320/320 [00:05<00:00, 62.23it/s]\n"
     ]
    },
    {
     "name": "stdout",
     "output_type": "stream",
     "text": [
      "452/452 [==============================] - 2s 4ms/step - loss: 4.0282\n",
      "Epoch 38 loss 3.992821864783764 val loss 4.028225421905518\n"
     ]
    },
    {
     "name": "stderr",
     "output_type": "stream",
     "text": [
      "0.119796: 100%|██████████| 320/320 [00:05<00:00, 61.04it/s]\n"
     ]
    },
    {
     "name": "stdout",
     "output_type": "stream",
     "text": [
      "452/452 [==============================] - 2s 4ms/step - loss: 4.0421\n",
      "Epoch 39 loss 3.8218521431088446 val loss 4.042101860046387\n"
     ]
    },
    {
     "name": "stderr",
     "output_type": "stream",
     "text": [
      "0.125811: 100%|██████████| 320/320 [00:05<00:00, 61.90it/s]\n"
     ]
    },
    {
     "name": "stdout",
     "output_type": "stream",
     "text": [
      "452/452 [==============================] - 2s 4ms/step - loss: 4.0600\n",
      "Epoch 40 loss 4.01376496553421 val loss 4.06004524230957\n"
     ]
    },
    {
     "name": "stderr",
     "output_type": "stream",
     "text": [
      "0.123224: 100%|██████████| 320/320 [00:05<00:00, 62.47it/s]\n"
     ]
    },
    {
     "name": "stdout",
     "output_type": "stream",
     "text": [
      "452/452 [==============================] - 2s 4ms/step - loss: 4.0519\n",
      "Epoch 41 loss 3.9312460757791996 val loss 4.051853656768799\n"
     ]
    },
    {
     "name": "stderr",
     "output_type": "stream",
     "text": [
      "0.117889: 100%|██████████| 320/320 [00:05<00:00, 58.97it/s]\n"
     ]
    },
    {
     "name": "stdout",
     "output_type": "stream",
     "text": [
      "452/452 [==============================] - 2s 4ms/step - loss: 4.0241\n",
      "Epoch 42 loss 3.7610370345413684 val loss 4.024073123931885\n"
     ]
    },
    {
     "name": "stderr",
     "output_type": "stream",
     "text": [
      "0.124676: 100%|██████████| 320/320 [00:05<00:00, 59.13it/s]\n"
     ]
    },
    {
     "name": "stdout",
     "output_type": "stream",
     "text": [
      "452/452 [==============================] - 2s 4ms/step - loss: 3.9961\n",
      "Epoch 43 loss 3.977549806982279 val loss 3.9960997104644775\n"
     ]
    },
    {
     "name": "stderr",
     "output_type": "stream",
     "text": [
      "0.122365: 100%|██████████| 320/320 [00:05<00:00, 58.78it/s]\n"
     ]
    },
    {
     "name": "stdout",
     "output_type": "stream",
     "text": [
      "452/452 [==============================] - 2s 4ms/step - loss: 4.0214\n",
      "Epoch 44 loss 3.9038109354674817 val loss 4.021421909332275\n"
     ]
    },
    {
     "name": "stderr",
     "output_type": "stream",
     "text": [
      "0.125091: 100%|██████████| 320/320 [00:05<00:00, 59.96it/s]\n"
     ]
    },
    {
     "name": "stdout",
     "output_type": "stream",
     "text": [
      "452/452 [==============================] - 2s 4ms/step - loss: 3.9950\n",
      "Epoch 45 loss 3.9907983131706715 val loss 3.9949560165405273\n"
     ]
    },
    {
     "name": "stderr",
     "output_type": "stream",
     "text": [
      "0.120967: 100%|██████████| 320/320 [00:05<00:00, 60.64it/s]\n"
     ]
    },
    {
     "name": "stdout",
     "output_type": "stream",
     "text": [
      "452/452 [==============================] - 2s 4ms/step - loss: 4.0171\n",
      "Epoch 46 loss 3.8592322655022144 val loss 4.017146587371826\n"
     ]
    },
    {
     "name": "stderr",
     "output_type": "stream",
     "text": [
      "0.119876: 100%|██████████| 320/320 [00:05<00:00, 58.39it/s]"
     ]
    },
    {
     "name": "stdout",
     "output_type": "stream",
     "text": [
      "  1/452 [..............................] - ETA: 8s - loss: 4.7869"
     ]
    },
    {
     "name": "stderr",
     "output_type": "stream",
     "text": [
      "\n"
     ]
    },
    {
     "name": "stdout",
     "output_type": "stream",
     "text": [
      "452/452 [==============================] - 2s 4ms/step - loss: 4.0356\n",
      "Epoch 47 loss 3.8244114220142365 val loss 4.0356221199035645\n"
     ]
    },
    {
     "name": "stderr",
     "output_type": "stream",
     "text": [
      "0.119450: 100%|██████████| 320/320 [00:05<00:00, 58.13it/s]\n"
     ]
    },
    {
     "name": "stdout",
     "output_type": "stream",
     "text": [
      "452/452 [==============================] - 2s 4ms/step - loss: 4.0254\n",
      "Epoch 48 loss 3.8108215339481832 val loss 4.0254011154174805\n"
     ]
    },
    {
     "name": "stderr",
     "output_type": "stream",
     "text": [
      "0.123748: 100%|██████████| 320/320 [00:05<00:00, 60.52it/s]\n"
     ]
    },
    {
     "name": "stdout",
     "output_type": "stream",
     "text": [
      "452/452 [==============================] - 2s 4ms/step - loss: 4.0144\n",
      "Epoch 49 loss 3.9479582630097867 val loss 4.014445781707764\n"
     ]
    },
    {
     "name": "stderr",
     "output_type": "stream",
     "text": [
      "0.122592: 100%|██████████| 320/320 [00:05<00:00, 60.86it/s]\n"
     ]
    },
    {
     "name": "stdout",
     "output_type": "stream",
     "text": [
      "452/452 [==============================] - 2s 4ms/step - loss: 4.0070\n",
      "Epoch 50 loss 3.911075785756111 val loss 4.007009029388428\n"
     ]
    },
    {
     "name": "stderr",
     "output_type": "stream",
     "text": [
      "0.122729: 100%|██████████| 320/320 [00:05<00:00, 57.92it/s]\n"
     ]
    },
    {
     "name": "stdout",
     "output_type": "stream",
     "text": [
      "452/452 [==============================] - 2s 4ms/step - loss: 3.9822\n",
      "Epoch 51 loss 3.9154384948313234 val loss 3.982205629348755\n"
     ]
    },
    {
     "name": "stderr",
     "output_type": "stream",
     "text": [
      "0.121540: 100%|██████████| 320/320 [00:05<00:00, 59.16it/s]\n"
     ]
    },
    {
     "name": "stdout",
     "output_type": "stream",
     "text": [
      "452/452 [==============================] - 2s 4ms/step - loss: 3.9913\n",
      "Epoch 52 loss 3.8775015167891977 val loss 3.991323471069336\n"
     ]
    },
    {
     "name": "stderr",
     "output_type": "stream",
     "text": [
      "0.122943: 100%|██████████| 320/320 [00:05<00:00, 60.33it/s]\n"
     ]
    },
    {
     "name": "stdout",
     "output_type": "stream",
     "text": [
      "452/452 [==============================] - 2s 4ms/step - loss: 3.9781\n",
      "Epoch 53 loss 3.9222679913043974 val loss 3.978100299835205\n"
     ]
    },
    {
     "name": "stderr",
     "output_type": "stream",
     "text": [
      "0.122177: 100%|██████████| 320/320 [00:05<00:00, 63.19it/s]\n"
     ]
    },
    {
     "name": "stdout",
     "output_type": "stream",
     "text": [
      "452/452 [==============================] - 2s 4ms/step - loss: 3.9915\n",
      "Epoch 54 loss 3.8978194646537303 val loss 3.991527557373047\n"
     ]
    },
    {
     "name": "stderr",
     "output_type": "stream",
     "text": [
      "0.121672: 100%|██████████| 320/320 [00:05<00:00, 62.63it/s]\n"
     ]
    },
    {
     "name": "stdout",
     "output_type": "stream",
     "text": [
      "452/452 [==============================] - 2s 4ms/step - loss: 3.9828\n",
      "Epoch 55 loss 3.8817273549735547 val loss 3.9828479290008545\n"
     ]
    },
    {
     "name": "stderr",
     "output_type": "stream",
     "text": [
      "0.122420: 100%|██████████| 320/320 [00:05<00:00, 62.88it/s]"
     ]
    },
    {
     "name": "stdout",
     "output_type": "stream",
     "text": [
      "  1/452 [..............................] - ETA: 7s - loss: 4.7714"
     ]
    },
    {
     "name": "stderr",
     "output_type": "stream",
     "text": [
      "\n"
     ]
    },
    {
     "name": "stdout",
     "output_type": "stream",
     "text": [
      "452/452 [==============================] - 2s 4ms/step - loss: 4.0364\n",
      "Epoch 56 loss 3.9055726908147337 val loss 4.036388874053955\n"
     ]
    },
    {
     "name": "stderr",
     "output_type": "stream",
     "text": [
      "0.123108: 100%|██████████| 320/320 [00:05<00:00, 61.99it/s]\n"
     ]
    },
    {
     "name": "stdout",
     "output_type": "stream",
     "text": [
      "452/452 [==============================] - 2s 4ms/step - loss: 3.9804\n",
      "Epoch 57 loss 3.927543244510889 val loss 3.9804229736328125\n"
     ]
    },
    {
     "name": "stderr",
     "output_type": "stream",
     "text": [
      "0.125063: 100%|██████████| 320/320 [00:05<00:00, 60.03it/s]\n"
     ]
    },
    {
     "name": "stdout",
     "output_type": "stream",
     "text": [
      "452/452 [==============================] - 2s 4ms/step - loss: 3.9939\n",
      "Epoch 58 loss 3.9898920319974422 val loss 3.9938714504241943\n"
     ]
    },
    {
     "name": "stderr",
     "output_type": "stream",
     "text": [
      "0.126111: 100%|██████████| 320/320 [00:05<00:00, 61.92it/s]\n"
     ]
    },
    {
     "name": "stdout",
     "output_type": "stream",
     "text": [
      "452/452 [==============================] - 2s 4ms/step - loss: 3.9746\n",
      "Epoch 59 loss 4.023327766358852 val loss 3.9746484756469727\n"
     ]
    },
    {
     "name": "stderr",
     "output_type": "stream",
     "text": [
      "0.121956: 100%|██████████| 320/320 [00:05<00:00, 59.22it/s]\n"
     ]
    },
    {
     "name": "stdout",
     "output_type": "stream",
     "text": [
      "452/452 [==============================] - 2s 4ms/step - loss: 3.9986\n",
      "Epoch 60 loss 3.890778286755085 val loss 3.998645067214966\n"
     ]
    },
    {
     "name": "stderr",
     "output_type": "stream",
     "text": [
      "0.119114: 100%|██████████| 320/320 [00:05<00:00, 59.24it/s]\n"
     ]
    },
    {
     "name": "stdout",
     "output_type": "stream",
     "text": [
      "452/452 [==============================] - 2s 4ms/step - loss: 4.0393\n",
      "Epoch 61 loss 3.8001149207353593 val loss 4.039276599884033\n"
     ]
    },
    {
     "name": "stderr",
     "output_type": "stream",
     "text": [
      "0.124116: 100%|██████████| 320/320 [00:05<00:00, 60.46it/s]\n"
     ]
    },
    {
     "name": "stdout",
     "output_type": "stream",
     "text": [
      "452/452 [==============================] - 2s 4ms/step - loss: 3.9926\n",
      "Epoch 62 loss 3.959691331535578 val loss 3.9925942420959473\n"
     ]
    },
    {
     "name": "stderr",
     "output_type": "stream",
     "text": [
      "0.121914: 100%|██████████| 320/320 [00:05<00:00, 59.03it/s]\n"
     ]
    },
    {
     "name": "stdout",
     "output_type": "stream",
     "text": [
      "452/452 [==============================] - 2s 4ms/step - loss: 3.9839\n",
      "Epoch 63 loss 3.889432903379202 val loss 3.9839394092559814\n"
     ]
    },
    {
     "name": "stderr",
     "output_type": "stream",
     "text": [
      "0.121976: 100%|██████████| 320/320 [00:05<00:00, 60.13it/s]\n"
     ]
    },
    {
     "name": "stdout",
     "output_type": "stream",
     "text": [
      "452/452 [==============================] - 2s 4ms/step - loss: 3.9843\n",
      "Epoch 64 loss 3.8914114370942117 val loss 3.9842872619628906\n"
     ]
    },
    {
     "name": "stderr",
     "output_type": "stream",
     "text": [
      "0.120186: 100%|██████████| 320/320 [00:05<00:00, 61.08it/s]\n"
     ]
    },
    {
     "name": "stdout",
     "output_type": "stream",
     "text": [
      "452/452 [==============================] - 2s 4ms/step - loss: 4.0447\n",
      "Epoch 65 loss 3.8343048214912416 val loss 4.044703960418701\n"
     ]
    },
    {
     "name": "stderr",
     "output_type": "stream",
     "text": [
      "0.123739: 100%|██████████| 320/320 [00:05<00:00, 59.56it/s]\n"
     ]
    },
    {
     "name": "stdout",
     "output_type": "stream",
     "text": [
      "452/452 [==============================] - 2s 4ms/step - loss: 3.9585\n",
      "Epoch 66 loss 3.9476634532213213 val loss 3.958451986312866\n"
     ]
    },
    {
     "name": "stderr",
     "output_type": "stream",
     "text": [
      "0.122041: 100%|██████████| 320/320 [00:05<00:00, 59.71it/s]\n"
     ]
    },
    {
     "name": "stdout",
     "output_type": "stream",
     "text": [
      "452/452 [==============================] - 2s 4ms/step - loss: 3.9742\n",
      "Epoch 67 loss 3.8934946328401567 val loss 3.974170684814453\n"
     ]
    },
    {
     "name": "stderr",
     "output_type": "stream",
     "text": [
      "0.124256: 100%|██████████| 320/320 [00:05<00:00, 59.19it/s]\n"
     ]
    },
    {
     "name": "stdout",
     "output_type": "stream",
     "text": [
      "452/452 [==============================] - 2s 4ms/step - loss: 3.9708\n",
      "Epoch 68 loss 3.964144213497639 val loss 3.9707703590393066\n"
     ]
    },
    {
     "name": "stderr",
     "output_type": "stream",
     "text": [
      "0.121846: 100%|██████████| 320/320 [00:05<00:00, 58.75it/s]"
     ]
    },
    {
     "name": "stdout",
     "output_type": "stream",
     "text": [
      "  1/452 [..............................] - ETA: 8s - loss: 4.4775"
     ]
    },
    {
     "name": "stderr",
     "output_type": "stream",
     "text": [
      "\n"
     ]
    },
    {
     "name": "stdout",
     "output_type": "stream",
     "text": [
      "452/452 [==============================] - 2s 4ms/step - loss: 3.9608\n",
      "Epoch 69 loss 3.8872750125825406 val loss 3.96079421043396\n"
     ]
    },
    {
     "name": "stderr",
     "output_type": "stream",
     "text": [
      "0.120346: 100%|██████████| 320/320 [00:05<00:00, 58.74it/s]\n"
     ]
    },
    {
     "name": "stdout",
     "output_type": "stream",
     "text": [
      "452/452 [==============================] - 2s 4ms/step - loss: 3.9618\n",
      "Epoch 70 loss 3.8394194066524507 val loss 3.9617903232574463\n"
     ]
    },
    {
     "name": "stderr",
     "output_type": "stream",
     "text": [
      "0.123700: 100%|██████████| 320/320 [00:05<00:00, 61.25it/s]\n"
     ]
    },
    {
     "name": "stdout",
     "output_type": "stream",
     "text": [
      "452/452 [==============================] - 2s 4ms/step - loss: 3.9931\n",
      "Epoch 71 loss 3.9464235335588453 val loss 3.9930832386016846\n"
     ]
    },
    {
     "name": "stderr",
     "output_type": "stream",
     "text": [
      "0.124145: 100%|██████████| 320/320 [00:05<00:00, 60.95it/s]\n"
     ]
    },
    {
     "name": "stdout",
     "output_type": "stream",
     "text": [
      "452/452 [==============================] - 2s 4ms/step - loss: 3.9835\n",
      "Epoch 72 loss 3.960629118233919 val loss 3.9834561347961426\n"
     ]
    },
    {
     "name": "stderr",
     "output_type": "stream",
     "text": [
      "0.119106: 100%|██████████| 320/320 [00:05<00:00, 59.30it/s]\n"
     ]
    },
    {
     "name": "stdout",
     "output_type": "stream",
     "text": [
      "452/452 [==============================] - 2s 4ms/step - loss: 3.9663\n",
      "Epoch 73 loss 3.7998504407703875 val loss 3.9663054943084717\n"
     ]
    },
    {
     "name": "stderr",
     "output_type": "stream",
     "text": [
      "0.121329: 100%|██████████| 320/320 [00:05<00:00, 59.39it/s]\n"
     ]
    },
    {
     "name": "stdout",
     "output_type": "stream",
     "text": [
      "452/452 [==============================] - 2s 4ms/step - loss: 3.9737\n",
      "Epoch 74 loss 3.870773198455572 val loss 3.973738193511963\n"
     ]
    },
    {
     "name": "stderr",
     "output_type": "stream",
     "text": [
      "0.120135: 100%|██████████| 320/320 [00:05<00:00, 58.44it/s]\n"
     ]
    },
    {
     "name": "stdout",
     "output_type": "stream",
     "text": [
      "452/452 [==============================] - 2s 4ms/step - loss: 3.9593\n",
      "Epoch 75 loss 3.8326671198010445 val loss 3.9592599868774414\n"
     ]
    },
    {
     "name": "stderr",
     "output_type": "stream",
     "text": [
      "0.120003: 100%|██████████| 320/320 [00:05<00:00, 58.37it/s]\n"
     ]
    },
    {
     "name": "stdout",
     "output_type": "stream",
     "text": [
      "452/452 [==============================] - 2s 4ms/step - loss: 3.9728\n",
      "Epoch 76 loss 3.8284600608050825 val loss 3.9728469848632812\n"
     ]
    },
    {
     "name": "stderr",
     "output_type": "stream",
     "text": [
      "0.122616: 100%|██████████| 320/320 [00:05<00:00, 57.58it/s]\n"
     ]
    },
    {
     "name": "stdout",
     "output_type": "stream",
     "text": [
      "452/452 [==============================] - 2s 4ms/step - loss: 3.9521\n",
      "Epoch 77 loss 3.9118304066359997 val loss 3.952103614807129\n"
     ]
    },
    {
     "name": "stderr",
     "output_type": "stream",
     "text": [
      "0.125815: 100%|██████████| 320/320 [00:05<00:00, 60.39it/s]\n"
     ]
    },
    {
     "name": "stdout",
     "output_type": "stream",
     "text": [
      "452/452 [==============================] - 2s 4ms/step - loss: 3.9378\n",
      "Epoch 78 loss 4.013881462067365 val loss 3.937833547592163\n"
     ]
    },
    {
     "name": "stderr",
     "output_type": "stream",
     "text": [
      "0.119376: 100%|██████████| 320/320 [00:05<00:00, 60.61it/s]\n"
     ]
    },
    {
     "name": "stdout",
     "output_type": "stream",
     "text": [
      "452/452 [==============================] - 2s 4ms/step - loss: 3.9562\n",
      "Epoch 79 loss 3.808455214649439 val loss 3.9562268257141113\n"
     ]
    },
    {
     "name": "stderr",
     "output_type": "stream",
     "text": [
      "0.122625: 100%|██████████| 320/320 [00:05<00:00, 59.58it/s]\n"
     ]
    },
    {
     "name": "stdout",
     "output_type": "stream",
     "text": [
      "452/452 [==============================] - 2s 4ms/step - loss: 3.9881\n",
      "Epoch 80 loss 3.912129011005163 val loss 3.988119125366211\n"
     ]
    },
    {
     "name": "stderr",
     "output_type": "stream",
     "text": [
      "0.122355: 100%|██████████| 320/320 [00:05<00:00, 58.77it/s]\n"
     ]
    },
    {
     "name": "stdout",
     "output_type": "stream",
     "text": [
      "452/452 [==============================] - 2s 4ms/step - loss: 4.0089\n",
      "Epoch 81 loss 3.9035101480782033 val loss 4.008873462677002\n"
     ]
    },
    {
     "name": "stderr",
     "output_type": "stream",
     "text": [
      "0.121499: 100%|██████████| 320/320 [00:05<00:00, 58.69it/s]\n"
     ]
    },
    {
     "name": "stdout",
     "output_type": "stream",
     "text": [
      "452/452 [==============================] - 2s 4ms/step - loss: 3.9607\n",
      "Epoch 82 loss 3.8762034378945827 val loss 3.9607062339782715\n"
     ]
    },
    {
     "name": "stderr",
     "output_type": "stream",
     "text": [
      "0.120564: 100%|██████████| 320/320 [00:05<00:00, 58.00it/s]\n"
     ]
    },
    {
     "name": "stdout",
     "output_type": "stream",
     "text": [
      "452/452 [==============================] - 2s 4ms/step - loss: 4.0068\n",
      "Epoch 83 loss 3.8463669180870057 val loss 4.00680685043335\n"
     ]
    },
    {
     "name": "stderr",
     "output_type": "stream",
     "text": [
      "0.123942: 100%|██████████| 320/320 [00:05<00:00, 59.32it/s]\n"
     ]
    },
    {
     "name": "stdout",
     "output_type": "stream",
     "text": [
      "452/452 [==============================] - 2s 4ms/step - loss: 3.9528\n",
      "Epoch 84 loss 3.954149082303047 val loss 3.9528491497039795\n"
     ]
    },
    {
     "name": "stderr",
     "output_type": "stream",
     "text": [
      "0.124782: 100%|██████████| 320/320 [00:05<00:00, 60.78it/s]\n"
     ]
    },
    {
     "name": "stdout",
     "output_type": "stream",
     "text": [
      "452/452 [==============================] - 2s 4ms/step - loss: 3.9814\n",
      "Epoch 85 loss 3.9809498764574527 val loss 3.981365442276001\n"
     ]
    },
    {
     "name": "stderr",
     "output_type": "stream",
     "text": [
      "0.120978: 100%|██████████| 320/320 [00:05<00:00, 57.96it/s]\n"
     ]
    },
    {
     "name": "stdout",
     "output_type": "stream",
     "text": [
      "452/452 [==============================] - 2s 4ms/step - loss: 3.9607\n",
      "Epoch 86 loss 3.859571277350187 val loss 3.9607250690460205\n"
     ]
    },
    {
     "name": "stderr",
     "output_type": "stream",
     "text": [
      "0.123846: 100%|██████████| 320/320 [00:05<00:00, 59.73it/s]\n"
     ]
    },
    {
     "name": "stdout",
     "output_type": "stream",
     "text": [
      "452/452 [==============================] - 2s 4ms/step - loss: 3.9605\n",
      "Epoch 87 loss 3.9510668724775315 val loss 3.9604713916778564\n"
     ]
    },
    {
     "name": "stderr",
     "output_type": "stream",
     "text": [
      "0.121402: 100%|██████████| 320/320 [00:05<00:00, 58.08it/s]\n"
     ]
    },
    {
     "name": "stdout",
     "output_type": "stream",
     "text": [
      "452/452 [==============================] - 2s 4ms/step - loss: 3.9590\n",
      "Epoch 88 loss 3.87311689928174 val loss 3.9590439796447754\n"
     ]
    },
    {
     "name": "stderr",
     "output_type": "stream",
     "text": [
      "0.119298: 100%|██████████| 320/320 [00:05<00:00, 58.08it/s]\n"
     ]
    },
    {
     "name": "stdout",
     "output_type": "stream",
     "text": [
      "452/452 [==============================] - 2s 4ms/step - loss: 3.9534\n",
      "Epoch 89 loss 3.805964580178261 val loss 3.953425168991089\n",
      "break at best_epoch: 78\n"
     ]
    }
   ],
   "source": [
    "for e in range(1000):\n",
    "    e_indices = np.random.choice(range(N_fore), size=samples_per_epoch, replace=False)\n",
    "    e_loss = 0\n",
    "    pbar = tqdm(range(0, len(e_indices), batch_size))\n",
    "    for start in pbar:\n",
    "        ind = e_indices[start:start+batch_size]\n",
    "        e_loss += fore_model.train_on_batch([ip[ind] for ip in fore_train_ip], fore_train_op[ind])\n",
    "        pbar.set_description('%f'%(e_loss/(start+1)))\n",
    "    val_loss = fore_model.evaluate(fore_valid_ip, fore_valid_op, batch_size=batch_size, verbose=1)\n",
    "    print ('Epoch', e, 'loss', e_loss*batch_size/samples_per_epoch, 'val loss', val_loss)\n",
    "\n",
    "    if val_loss < best_val_loss:\n",
    "        best_val_loss = val_loss\n",
    "        #Save weights\n",
    "        fore_model.save_weights(SAVE_WEIGHTS_AS)\n",
    "        best_epoch = e\n",
    "    if (e-best_epoch)>patience:\n",
    "        print('break at best_epoch:', best_epoch)\n",
    "        break"
   ]
  }
 ],
 "metadata": {
  "kernelspec": {
   "display_name": "venv",
   "language": "python",
   "name": "python3"
  },
  "language_info": {
   "codemirror_mode": {
    "name": "ipython",
    "version": 3
   },
   "file_extension": ".py",
   "mimetype": "text/x-python",
   "name": "python",
   "nbconvert_exporter": "python",
   "pygments_lexer": "ipython3",
   "version": "3.10.11"
  },
  "vscode": {
   "interpreter": {
    "hash": "b151e83ea101d9f812f847a912c06381d6dfc7e69860785c6e0c5c07911c02ec"
   }
  }
 },
 "nbformat": 4,
 "nbformat_minor": 5
}
